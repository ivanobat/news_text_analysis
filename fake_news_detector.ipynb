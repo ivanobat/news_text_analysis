{
 "cells": [
  {
   "cell_type": "code",
   "execution_count": 1,
   "metadata": {},
   "outputs": [],
   "source": [
    "\n",
    "import pandas as pd \n",
    "import numpy as np \n",
    "import torch.nn as nn\n",
    "from pytorch_pretrained_bert import BertTokenizer, BertModel\n",
    "import torch\n",
    "from torchnlp.datasets import imdb_dataset\n",
    "from keras.preprocessing.sequence import pad_sequences\n",
    "from sklearn.metrics import classification_report"
   ]
  },
  {
   "cell_type": "markdown",
   "metadata": {},
   "source": [
    "## Load data"
   ]
  },
  {
   "cell_type": "code",
   "execution_count": 16,
   "metadata": {},
   "outputs": [
    {
     "name": "stdout",
     "output_type": "stream",
     "text": [
      "(12999, 20)\n",
      "(23481, 4)\n"
     ]
    }
   ],
   "source": [
    "pd.set_option('display.max_columns', 50)\n",
    "#df = pd.DataFrame(columns=['text','type'])\n",
    "news_articles1 = pd.read_csv(\"..\\\\..\\\\data\\\\getting_real_about_fake_news\\\\fake.csv\", sep=',')\n",
    "print(news_articles1.shape)\n",
    "\n",
    "news_articles2 = pd.read_csv(\"..\\\\..\\\\data\\\\fake_news\\\\fake.csv\", sep=',')\n",
    "print(news_articles2.shape)"
   ]
  },
  {
   "cell_type": "code",
   "execution_count": 10,
   "metadata": {},
   "outputs": [
    {
     "data": {
      "text/plain": [
       "Counter({'bias': 443,\n",
       "         'conspiracy': 430,\n",
       "         'fake': 19,\n",
       "         'bs': 11492,\n",
       "         'satire': 146,\n",
       "         'hate': 246,\n",
       "         'junksci': 102,\n",
       "         'state': 121})"
      ]
     },
     "execution_count": 10,
     "metadata": {},
     "output_type": "execute_result"
    }
   ],
   "source": [
    "from collections import Counter\n",
    "Counter(news_articles1['type'].values)"
   ]
  },
  {
   "cell_type": "markdown",
   "metadata": {},
   "source": [
    "## Preprocessing"
   ]
  },
  {
   "cell_type": "code",
   "execution_count": null,
   "metadata": {},
   "outputs": [],
   "source": []
  },
  {
   "cell_type": "code",
   "execution_count": null,
   "metadata": {},
   "outputs": [],
   "source": []
  }
 ],
 "metadata": {
  "interpreter": {
   "hash": "6d9caa300933281dcb5e8a9c59ea9b10910260be8e0957179c19c1479637d761"
  },
  "kernelspec": {
   "display_name": "R",
   "language": "python",
   "name": "python3"
  },
  "language_info": {
   "codemirror_mode": {
    "name": "ipython",
    "version": 3
   },
   "file_extension": ".py",
   "mimetype": "text/x-python",
   "name": "python",
   "nbconvert_exporter": "python",
   "pygments_lexer": "ipython3",
   "version": "3.9.10"
  },
  "orig_nbformat": 4
 },
 "nbformat": 4,
 "nbformat_minor": 2
}

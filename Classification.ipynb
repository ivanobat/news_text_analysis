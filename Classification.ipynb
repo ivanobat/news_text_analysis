{
 "cells": [
  {
   "cell_type": "code",
   "execution_count": 1,
   "metadata": {
    "colab": {
     "base_uri": "https://localhost:8080/"
    },
    "executionInfo": {
     "elapsed": 1623,
     "status": "ok",
     "timestamp": 1648573256069,
     "user": {
      "displayName": "Ivan Aguilar",
      "userId": "12343303848570579602"
     },
     "user_tz": -120
    },
    "id": "LLSDhzbcbwlc",
    "outputId": "906aa591-d989-493c-96ff-ac1478ab7931"
   },
   "outputs": [],
   "source": [
    "#from google.colab import drive\n",
    "#drive.mount('/content/drive')\n",
    "\n",
    "#import os\n",
    "#os.chdir('/content/drive/MyDrive/TextMining/final_project/')"
   ]
  },
  {
   "cell_type": "markdown",
   "metadata": {
    "id": "H5hI06-KbwCw"
   },
   "source": [
    "# News articles fake/true classification with neural network embeddings\n"
   ]
  },
  {
   "cell_type": "code",
   "execution_count": 2,
   "metadata": {
    "executionInfo": {
     "elapsed": 9446,
     "status": "ok",
     "timestamp": 1648573266892,
     "user": {
      "displayName": "Ivan Aguilar",
      "userId": "12343303848570579602"
     },
     "user_tz": -120
    },
    "id": "Iubsuj8BbwC0"
   },
   "outputs": [],
   "source": [
    "# import libraries\n",
    "import numpy as np\n",
    "import pandas as pd\n",
    "from keras.preprocessing.text import Tokenizer\n",
    "from datetime import datetime\n",
    "import re\n",
    "import tqdm\n",
    "\n",
    "import tensorflow as tf\n",
    "from tensorflow.keras.preprocessing.text import Tokenizer\n",
    "from tensorflow.keras.preprocessing.sequence import pad_sequences\n",
    "from tensorboard.plugins import projector\n",
    "\n",
    "from sklearn.model_selection import train_test_split\n",
    "from sklearn.feature_extraction.text import CountVectorizer, TfidfVectorizer\n",
    "from sklearn.feature_extraction import text\n",
    "\n",
    "import seaborn as sns\n",
    "import matplotlib.pyplot as plt\n",
    "%matplotlib inline\n",
    "\n",
    "sns.set(style=\"darkgrid\")\n",
    "palette = sns.set_palette('rocket')\n",
    "pd.set_option('display.max_colwidth', 100)\n",
    "\n",
    "SEED = 666"
   ]
  },
  {
   "cell_type": "markdown",
   "metadata": {
    "id": "H2F4B2AAbwC2"
   },
   "source": [
    "## Auxiliary functions"
   ]
  },
  {
   "cell_type": "code",
   "execution_count": 3,
   "metadata": {},
   "outputs": [],
   "source": [
    "# date conversion functions\n",
    "def string_to_date_true(string):\n",
    "  date = datetime.strptime(string, \"%B %d, %Y \")\n",
    "  return date\n",
    "  \n",
    "def string_to_date_fake(string):\n",
    "  date = datetime.strptime(string, \"%d-%b-%y\")\n",
    "  return date\n",
    "\n",
    "def cleanText(s):\n",
    "    # finds and replaces multiple noisy characters from text\n",
    "    # including emojis, hashtags and user mentions\n",
    "    s = s.replace(r'<lb>', \"\\n\")\n",
    "    s = s.replace(r'<tab>', \"\\i\")\n",
    "    s = re.sub(r'<br */*>', \"\\n\", s)\n",
    "    s = s.replace(\"&lt;\", \"<\").replace(\"&gt;\", \">\").replace(\"&amp;\", \"&\")\n",
    "    s = s.replace(\"&amp;\", \"&\")\n",
    "    s = s.replace(r'\\n', ' ')\n",
    "    # markdown urls\n",
    "    s = re.sub(r'\\(https*://[^\\)]*\\)', \"[url]\", s)\n",
    "    # normal urls\n",
    "    s = re.sub(r'https*://[^\\s]*', \"[url]\", s)\n",
    "    #s = re.sub(r'_+', ' ', s)\n",
    "    s = re.sub(r'\"+', '\"', s)\n",
    "    # custom removals\n",
    "    s = re.sub(r'@[A-Za-z0-9_]+', \"@usermention\", s) # remove mentions\n",
    "    #s = re.sub(r'#[A-Za-z0-9_]+', \"#hashtag\", s) # remove hashtags\n",
    "    #s = re.sub(r':[^:]+','[emoji]',s) # remove demojized text\n",
    "    return str(s)"
   ]
  },
  {
   "cell_type": "markdown",
   "metadata": {
    "id": "1LV_pnJ3bwC2"
   },
   "source": [
    "## Load data"
   ]
  },
  {
   "cell_type": "code",
   "execution_count": 4,
   "metadata": {
    "colab": {
     "base_uri": "https://localhost:8080/"
    },
    "executionInfo": {
     "elapsed": 1743,
     "status": "ok",
     "timestamp": 1648573278620,
     "user": {
      "displayName": "Ivan Aguilar",
      "userId": "12343303848570579602"
     },
     "user_tz": -120
    },
    "id": "NOpltpBebwC3",
    "outputId": "4f21e2ce-b8cc-46ff-f0c4-9b0e8849acd9"
   },
   "outputs": [
    {
     "name": "stdout",
     "output_type": "stream",
     "text": [
      "(23502, 4)\n",
      "(21417, 4)\n",
      "(44867, 7)\n",
      "2448.355249960996\n"
     ]
    }
   ],
   "source": [
    "# load news files\n",
    "docs_fake = pd.read_csv('./data/Fake.csv', encoding = \"utf-8\", engine='python')\n",
    "print(docs_fake.shape)\n",
    "docs_true = pd.read_csv('./data/True.csv', encoding = \"utf-8\", engine='python')\n",
    "print(docs_true.shape)\n",
    "\n",
    "#cleaning small issues with dataset format: date, corrupted rows, etc.\n",
    "docs_fake = docs_fake.drop(docs_fake.iloc[:, 4:],axis = 1)\n",
    "docs_fake = docs_fake.dropna(axis = 0)\n",
    "docs_fake[\"length\"] = docs_fake.apply(lambda x : len(x[\"date\"]), axis = 1)\n",
    "docs_fake[\"length_subj\"] = docs_fake.apply(lambda x : len(x[\"subject\"]), axis = 1)\n",
    "docs_fake = docs_fake.loc[docs_fake[\"length\"] <=9]\n",
    "docs_fake = docs_fake.loc[docs_fake[\"length_subj\"] <= 20]\n",
    "docs_fake['text'] = [cleanText(text) for text in docs_fake['text']]\n",
    "docs_true['text'] = [cleanText(text) for text in docs_true['text']]\n",
    "docs_true[\"date\"] = docs_true.apply(lambda x : string_to_date_true(x[\"date\"]), axis = 1)\n",
    "docs_fake[\"date\"] = docs_fake.apply(lambda x : string_to_date_fake(x[\"date\"]), axis = 1)\n",
    "\n",
    "docs_fake['fake_flag'] = 1\n",
    "docs_true['fake_flag'] = 0\n",
    "\n",
    "docs_all = pd.concat([docs_fake, docs_true], axis=0)\n",
    "print(docs_all.shape)\n",
    "docs_all['article_length'] = [len(row) for row in docs_all['text']]\n",
    "print(np.average(docs_all['article_length']))"
   ]
  },
  {
   "cell_type": "code",
   "execution_count": 5,
   "metadata": {
    "executionInfo": {
     "elapsed": 223,
     "status": "ok",
     "timestamp": 1648573704890,
     "user": {
      "displayName": "Ivan Aguilar",
      "userId": "12343303848570579602"
     },
     "user_tz": -120
    },
    "id": "_8gyeNo9bwC5"
   },
   "outputs": [],
   "source": [
    "# split the train and test data\n",
    "x = np.array(docs_all.text)\n",
    "y = np.array(docs_all.fake_flag)\n",
    "\n",
    "x_train, x_test, y_train, y_test  = train_test_split(x, y, test_size=0.3, random_state=666)"
   ]
  },
  {
   "cell_type": "markdown",
   "metadata": {},
   "source": [
    "## Set parameters"
   ]
  },
  {
   "cell_type": "code",
   "execution_count": 6,
   "metadata": {},
   "outputs": [],
   "source": [
    "# set parameters for embedding neural network\n",
    "embedding_dim = 32      # Embedding hidden units size\n",
    "vocab_size = 10000      # Vocabulary size to use for the full embedding\n",
    "padding_type = 'post'   # Padding type for embedding\n",
    "trunc_type = 'post'     # Truncate type for embedding\n",
    "max_length = 2500        # Max length of embedding sequence"
   ]
  },
  {
   "cell_type": "code",
   "execution_count": 7,
   "metadata": {},
   "outputs": [],
   "source": [
    "# Set stop words and remove them from x_train and x_test\n",
    "add_stopwords = ['000']\n",
    "stop_words = text.ENGLISH_STOP_WORDS.union(add_stopwords)\n",
    "\n",
    "vectorizer = CountVectorizer(binary = True, decode_error = u'ignore', stop_words=stop_words)\n",
    "word_tokenizer = vectorizer.build_tokenizer()\n",
    "\n",
    "x_train_tokens = [word_tokenizer(sentence) for sentence in x_train]\n",
    "for i in range(len(x_train_tokens)):\n",
    "    x_train_tokens[i] = [word for word in x_train_tokens[i] if word not in stop_words]\n",
    "    x_train_tokens[i] =' '.join(map(str,x_train_tokens[i]))\n",
    "\n",
    "x_test_tokens = [word_tokenizer(sentence) for sentence in x_test]\n",
    "for i in range(len(x_test_tokens)):\n",
    "    x_test_tokens[i] = [word for word in x_test_tokens[i] if word not in stop_words]\n",
    "    x_test_tokens[i] =' '.join(map(str,x_test_tokens[i]))"
   ]
  },
  {
   "cell_type": "markdown",
   "metadata": {},
   "source": [
    "## Tokenizer"
   ]
  },
  {
   "cell_type": "code",
   "execution_count": 8,
   "metadata": {
    "executionInfo": {
     "elapsed": 28577,
     "status": "ok",
     "timestamp": 1648573734298,
     "user": {
      "displayName": "Ivan Aguilar",
      "userId": "12343303848570579602"
     },
     "user_tz": -120
    },
    "id": "TxGvGkXobwC6"
   },
   "outputs": [],
   "source": [
    "# Tokenize and create sequences for train dataset\n",
    "tokenizer = Tokenizer(num_words=vocab_size, oov_token=\"<oov>token\")\n",
    "tokenizer.fit_on_texts(x_train)\n",
    "train_sequences = tokenizer.texts_to_sequences(x_train)\n",
    "train_padded_sequences = pad_sequences(train_sequences, maxlen=max_length, padding=padding_type, truncating=trunc_type)\n",
    "\n",
    "# Tokenize and create sequences for test dataset\n",
    "test_sequences = tokenizer.texts_to_sequences(x_test)\n",
    "test_padded_sequences = pad_sequences(test_sequences, maxlen=max_length, padding=padding_type, truncating=trunc_type)"
   ]
  },
  {
   "cell_type": "markdown",
   "metadata": {},
   "source": [
    "## Define architecture"
   ]
  },
  {
   "cell_type": "code",
   "execution_count": 9,
   "metadata": {},
   "outputs": [
    {
     "name": "stdout",
     "output_type": "stream",
     "text": [
      "Model: \"sequential\"\n",
      "_________________________________________________________________\n",
      " Layer (type)                Output Shape              Param #   \n",
      "=================================================================\n",
      " embedding (Embedding)       (None, 2500, 32)          320000    \n",
      "                                                                 \n",
      " global_average_pooling1d (G  (None, 32)               0         \n",
      " lobalAveragePooling1D)                                          \n",
      "                                                                 \n",
      " dense (Dense)               (None, 128)               4224      \n",
      "                                                                 \n",
      " dropout (Dropout)           (None, 128)               0         \n",
      "                                                                 \n",
      " dense_1 (Dense)             (None, 1)                 129       \n",
      "                                                                 \n",
      "=================================================================\n",
      "Total params: 324,353\n",
      "Trainable params: 324,353\n",
      "Non-trainable params: 0\n",
      "_________________________________________________________________\n"
     ]
    },
    {
     "data": {
      "text/plain": [
       "None"
      ]
     },
     "metadata": {},
     "output_type": "display_data"
    }
   ],
   "source": [
    "# Define neural network architecture\n",
    "model = tf.keras.models.Sequential([\n",
    "    tf.keras.layers.Embedding(vocab_size, embedding_dim, input_length=max_length),\n",
    "    tf.keras.layers.GlobalAveragePooling1D(),\n",
    "    tf.keras.layers.Dense(128, activation=\"relu\"),\n",
    "    tf.keras.layers.Dropout(0.2),\n",
    "    tf.keras.layers.Dense(1, activation=\"sigmoid\")\n",
    "])\n",
    "\n",
    "display(model.summary())"
   ]
  },
  {
   "cell_type": "markdown",
   "metadata": {},
   "source": [
    "## Run model"
   ]
  },
  {
   "cell_type": "code",
   "execution_count": 10,
   "metadata": {},
   "outputs": [],
   "source": [
    "# define model parameters\n",
    "model.compile(loss=\"binary_crossentropy\", optimizer=\"adam\", metrics=[\"accuracy\"])"
   ]
  },
  {
   "cell_type": "code",
   "execution_count": 11,
   "metadata": {},
   "outputs": [
    {
     "name": "stdout",
     "output_type": "stream",
     "text": [
      "Epoch 1/10\n",
      "982/982 [==============================] - 18s 17ms/step - loss: 0.2996 - accuracy: 0.8755 - val_loss: 0.0827 - val_accuracy: 0.9868\n",
      "Epoch 2/10\n",
      "982/982 [==============================] - 18s 18ms/step - loss: 0.0629 - accuracy: 0.9863 - val_loss: 0.0421 - val_accuracy: 0.9921\n",
      "Epoch 3/10\n",
      "982/982 [==============================] - 18s 18ms/step - loss: 0.0338 - accuracy: 0.9938 - val_loss: 0.0266 - val_accuracy: 0.9946\n",
      "Epoch 4/10\n",
      "982/982 [==============================] - 17s 17ms/step - loss: 0.0195 - accuracy: 0.9968 - val_loss: 0.0200 - val_accuracy: 0.9961\n",
      "Epoch 5/10\n",
      "982/982 [==============================] - 17s 17ms/step - loss: 0.0140 - accuracy: 0.9975 - val_loss: 0.0173 - val_accuracy: 0.9962\n",
      "Epoch 6/10\n",
      "982/982 [==============================] - 17s 17ms/step - loss: 0.0082 - accuracy: 0.9986 - val_loss: 0.0166 - val_accuracy: 0.9964\n",
      "Epoch 7/10\n",
      "982/982 [==============================] - 17s 18ms/step - loss: 0.0060 - accuracy: 0.9990 - val_loss: 0.0213 - val_accuracy: 0.9946\n",
      "Epoch 8/10\n",
      "982/982 [==============================] - 17s 18ms/step - loss: 0.0044 - accuracy: 0.9989 - val_loss: 0.0264 - val_accuracy: 0.9947\n",
      "Epoch 9/10\n",
      "982/982 [==============================] - 17s 17ms/step - loss: 0.0024 - accuracy: 0.9997 - val_loss: 0.0171 - val_accuracy: 0.9963\n",
      "Epoch 10/10\n",
      "982/982 [==============================] - 17s 17ms/step - loss: 0.0026 - accuracy: 0.9993 - val_loss: 0.0163 - val_accuracy: 0.9969\n"
     ]
    },
    {
     "data": {
      "text/plain": [
       "<keras.callbacks.History at 0x298fe349d30>"
      ]
     },
     "execution_count": 11,
     "metadata": {},
     "output_type": "execute_result"
    }
   ],
   "source": [
    "# run model\n",
    "model.fit(train_padded_sequences, y_train, epochs=10, validation_data=(test_padded_sequences, y_test))"
   ]
  },
  {
   "cell_type": "markdown",
   "metadata": {},
   "source": [
    "## Results"
   ]
  },
  {
   "cell_type": "code",
   "execution_count": 12,
   "metadata": {
    "colab": {
     "base_uri": "https://localhost:8080/",
     "height": 530
    },
    "executionInfo": {
     "elapsed": 30515,
     "status": "error",
     "timestamp": 1648573793022,
     "user": {
      "displayName": "Ivan Aguilar",
      "userId": "12343303848570579602"
     },
     "user_tz": -120
    },
    "id": "fBkmBJ-DbwC9",
    "outputId": "39bca9e6-9d30-4d23-b608-c42194004b5b"
   },
   "outputs": [],
   "source": [
    "# store loss and accuracy values for plotting\n",
    "results = pd.DataFrame()\n",
    "temp = pd.DataFrame()\n",
    "\n",
    "epoch = model.history.epoch\n",
    "train_loss = model.history.history[\"loss\"]\n",
    "test_loss = model.history.history[\"val_loss\"]\n",
    "\n",
    "train_acc = model.history.history[\"accuracy\"]\n",
    "test_acc = model.history.history[\"val_accuracy\"]\n",
    "\n",
    "temp['epoch'] = [item for item in epoch]\n",
    "temp['phase'] = 'train'\n",
    "temp['loss'] = [item for item in train_loss]\n",
    "temp['accuracy'] = [item for item in train_acc]\n",
    "\n",
    "results = results.append(temp)\n",
    "results = results.reset_index()\n",
    "results = results.drop('index', axis=1)\n",
    "\n",
    "temp['epoch'] = [item for item in epoch]\n",
    "temp['phase'] = 'test'\n",
    "temp['loss'] = [item for item in test_loss]\n",
    "temp['accuracy'] = [item for item in test_acc]\n",
    "\n",
    "results = results.append(temp)\n",
    "results = results.reset_index()\n",
    "results = results.drop('index', axis=1)"
   ]
  },
  {
   "cell_type": "code",
   "execution_count": 13,
   "metadata": {},
   "outputs": [
    {
     "data": {
      "image/png": "[encoded data removed]",
      "text/plain": [
       "<Figure size 1440x432 with 1 Axes>"
      ]
     },
     "metadata": {},
     "output_type": "display_data"
    }
   ],
   "source": [
    "palette = sns.set_palette('Set1')\n",
    "sns.set_style(\"darkgrid\")\n",
    "# plot train vs test accuracy\n",
    "fig1, ax1 = plt.subplots(figsize=(20, 6));\n",
    "fig1.suptitle('Train vs test accuracy for fake/true news prediction', size=20)\n",
    "sns.lineplot(data=results, x='epoch', y='accuracy', hue='phase', marker = 'o', ax=ax1, color='black');\n",
    "\n",
    "for _,item in results.iterrows():\n",
    "    ax1.text(item['epoch'],item['accuracy'],f'{item.accuracy:.4f}');"
   ]
  },
  {
   "cell_type": "code",
   "execution_count": 14,
   "metadata": {},
   "outputs": [
    {
     "data": {
      "image/png": "[encoded data removed]",
      "text/plain": [
       "<Figure size 1440x432 with 1 Axes>"
      ]
     },
     "metadata": {},
     "output_type": "display_data"
    }
   ],
   "source": [
    "# plot train vs test loss\n",
    "fig1, ax1 = plt.subplots(figsize=(20, 6));\n",
    "fig1.suptitle('Train vs test loss for fake/true news prediction', size=20)\n",
    "sns.lineplot(data=results, x='epoch', y='loss', hue='phase', marker = 'o', ax=ax1, color='black');\n",
    "\n",
    "for _,item in results.iterrows():\n",
    "    ax1.text(item['epoch'],item['loss'],f'{item.loss:.4f}');"
   ]
  },
  {
   "cell_type": "code",
   "execution_count": 15,
   "metadata": {},
   "outputs": [
    {
     "data": {
      "image/png": "[encoded data removed]",
      "text/plain": [
       "<Figure size 576x432 with 2 Axes>"
      ]
     },
     "metadata": {},
     "output_type": "display_data"
    }
   ],
   "source": [
    "# plot confusion matrix\n",
    "from sklearn.metrics import confusion_matrix\n",
    "\n",
    "y_pred = model.predict(test_padded_sequences)\n",
    "y_pred = [1 if item>0.5 else 0 for item in y_pred]\n",
    "\n",
    "# get values for confusion matrix\n",
    "conf_mat = confusion_matrix(y_test, y_pred)\n",
    "\n",
    "group_names = ['True Neg','False Pos','False Neg','True Pos']\n",
    "group_counts = [\"{0:0.0f}\".format(value) for value in conf_mat.flatten()]\n",
    "\n",
    "group_percentages = [\"{0:.2%}\".format(value) for value in conf_mat.flatten()/np.sum(conf_mat)]\n",
    "\n",
    "labels = [f\"{v1}\\n{v2}\\n{v3}\" for v1, v2, v3 in zip(group_names,group_counts,group_percentages)]\n",
    "labels = np.asarray(labels).reshape(2,2)\n",
    "\n",
    "fig1, ax1 = plt.subplots(figsize=(8, 6));\n",
    "ax = sns.heatmap(conf_mat, annot=labels, fmt='', cmap='Blues')\n",
    "\n",
    "ax.set_title('Confusion Matrix Fake/True news');\n",
    "ax.set_xlabel('\\nPredicted Values')\n",
    "ax.set_ylabel('Actual Values ');\n",
    "\n",
    "ax.xaxis.set_ticklabels(['False','True'])\n",
    "ax.yaxis.set_ticklabels(['False','True'])\n",
    "\n",
    "plt.show()"
   ]
  },
  {
   "cell_type": "code",
   "execution_count": 16,
   "metadata": {},
   "outputs": [
    {
     "data": {
      "text/plain": [
       "(array([ 1250,  1401,  1486,  1688,  2219,  2259,  2467,  2685,  2764,\n",
       "         3050,  3186,  3557,  3630,  3725,  4138,  4163,  4810,  5313,\n",
       "         6091,  6232,  6848,  7027,  7211,  7946,  8312,  8971,  9007,\n",
       "         9211,  9305,  9379,  9403,  9523,  9555,  9570, 10124, 10313,\n",
       "        10375, 10473, 10879, 11497, 12374, 13324], dtype=int64),)"
      ]
     },
     "execution_count": 16,
     "metadata": {},
     "output_type": "execute_result"
    }
   ],
   "source": [
    "# display misclassified articles\n",
    "result = np.where(y_test!=y_pred)\n",
    "result"
   ]
  },
  {
   "cell_type": "code",
   "execution_count": 17,
   "metadata": {},
   "outputs": [
    {
     "name": "stdout",
     "output_type": "stream",
     "text": [
      "True value: 0, Predicted value: 1\n",
      "NEW YORK (Reuters) - In April, Reuters photographer Zohra Bensemra was sent to cover the drought in Somalia. Once there, she looked for ways to humanize the plight of more than 2 million people trying to survive the famine amid fields of withered crops and the brittle skeletons of livestock.  See her portfolio of work here In a makeshift camp for displaced people, Bensemra met Zeinab, a 14-year-old girl forced to marry an older man offering $1,000 as her dowry. Zeinab had wanted to become an English teacher, but that small fortune made it possible for her extended family to travel to a Somali town on the Ethiopian border where international aid agencies providing food for drought refugees. Bensemra found similar stories during a nearly two-week trip through the Horn of Africa.  Photography opens eyes to what s going on in the world,  says Bensemra, who was named agency photographer of the year by the Guardian, a U.K.-based newspaper.  It s not about nationalism or religion but about human beings.   The Guardian recognized Bensemra s 2017 work covering some of the planet s most dire situations: the fight against Islamic State in Iraq and Syria; the Rohingya refugee crisis; and the drought in Somalia, among others.  Read the story here In Bensemra s role as an eyewitness to war, human rights abuses and other atrocities, she says it is crucial to remain unbiased.  It s important to stay neutral if we want people to believe us and trust us,  Bensemra says.  We have to be in the middle. We don t take sides.  Read her photographer profile here Based in Algeria, Bensemra says she believes being a woman in the field has its advantages. For one, people are more likely to open up to her and share their stories.  One of her most memorable photographs of the year shows an exhausted Khatla Ali Abdallah, 90, fleeing a battle with Islamic State outside Mosul in February. Bensemra had tears in her eyes as she shot the photograph, imagining the woman as her own grandmother, but unable to help.  When you see people suffering and living very, very hard lives, I imagine myself in their place,  she says.  \n"
     ]
    }
   ],
   "source": [
    "# see some examples of misclassified articles\n",
    "index = result[0][0]\n",
    "print('True value: {}, Predicted value: {}'.format(y_test[index],y_pred[index]))\n",
    "print(x_test[index])"
   ]
  },
  {
   "cell_type": "markdown",
   "metadata": {},
   "source": [
    "## Test on current news"
   ]
  },
  {
   "cell_type": "code",
   "execution_count": 18,
   "metadata": {},
   "outputs": [],
   "source": [
    "import requests\n",
    "from bs4 import BeautifulSoup\n",
    "import os\n",
    "\n",
    "root=\"http://lite.cnn.com\"\n",
    "\n",
    "#adapt to your system here\n",
    "destination=\"./data/\"\n",
    "\n",
    "#code for the front page of the news article\n",
    "response = requests.get(\"http://lite.cnn.com\")\n",
    "soup = BeautifulSoup(response.text, 'html.parser')\n",
    "\n",
    "#to select each relevant URL - only want hyperlinks that have 'en/article in them'\n",
    "root=\"http://lite.cnn.com\"\n",
    "urls = []\n",
    "for r_link in soup.find_all('a'):\n",
    "    if \"/en/article/\" in r_link['href']:\n",
    "        #print(root+str(r_link['href']))\n",
    "        urls.append(root+str(r_link['href']))"
   ]
  },
  {
   "cell_type": "code",
   "execution_count": 19,
   "metadata": {},
   "outputs": [],
   "source": [
    "df_corpus_joined = pd.DataFrame({'title': np.nan, 'date': np.nan, 'time': np.nan, 'text': ''},index=[0])\n",
    "\n",
    "for j in range(len(urls)):\n",
    "    response = requests.get(urls[j])\n",
    "    soup = BeautifulSoup(response.text, 'html.parser')\n",
    "    art_title = soup.find('h2').text\n",
    "    art_time = re.findall(\"[0-9][0-9][0-9] ([\\s\\S]*?) GMT\", soup.find(\"p\", id=\"published datetime\").text)\n",
    "    art_date = re.findall(\", ([\\s\\S]*?) [0-9][0-9]+\\:\", soup.find(\"p\", id=\"published datetime\").text)\n",
    "    \n",
    "    #the first line of the news article always has an id tag of editorsNote\n",
    "    row = soup.find('p', id = \"editorsNote\")\n",
    "    mylist = []\n",
    "    \n",
    "    #the news article always ends with a copywrite symbol and Cable News Network\n",
    "    while \"Cable News Network\" not in row.find_next('p').text:\n",
    "        row = row.find_next('p')\n",
    "        mylist.append(row.text)\n",
    "    text=\"\\n\".join(mylist)\n",
    "    row_corpus = pd.DataFrame({'title': art_title, 'date': art_date, 'time': art_time, 'text': text})\n",
    "    df_corpus_joined = df_corpus_joined.append(row_corpus)"
   ]
  },
  {
   "cell_type": "code",
   "execution_count": 20,
   "metadata": {},
   "outputs": [
    {
     "name": "stdout",
     "output_type": "stream",
     "text": [
      "96\n"
     ]
    }
   ],
   "source": [
    "# print the number of articles scrapped and remove first entry which is noisy\n",
    "print(len(df_corpus_joined))\n",
    "scrapped_articles = df_corpus_joined[1:]"
   ]
  },
  {
   "cell_type": "code",
   "execution_count": 21,
   "metadata": {},
   "outputs": [
    {
     "data": {
      "text/plain": [
       "0    Russia has doubled down on its threat to cut off natural gas supplies to Western countries that ...\n",
       "0    The US and its allies have been weighing how the West could provide Ukraine with alternative sec...\n",
       "0    Russian forces have withdrawn from Chernobyl, the site of the world's worst nuclear disaster, th...\n",
       "0    A 12-year-old student was fatally shot by a classmate at a South Carolina middle school, officia...\n",
       "0    Florida Gov. Ron DeSantis on Thursday signaled support for stripping Disney of its 55-year-old s...\n",
       "                                                    ...                                                 \n",
       "0    Last week's announcement that Moderna plans to seek authorization of its Covid-19 vaccine for yo...\n",
       "0    The torrential downpour that greeted Will and Kate in the Bahamas on Friday was the perfectly fi...\n",
       "0    As the 2022 primary season gets underway, those of us who have long opposed former President Don...\n",
       "0    Why has Russian President Vladimir Putin taken time from bombing Ukrainian civilians and arresti...\n",
       "0    President Joe Biden's proposed budget makes one thing clear: Despite progressive hopes that the ...\n",
       "Name: text, Length: 95, dtype: object"
      ]
     },
     "execution_count": 21,
     "metadata": {},
     "output_type": "execute_result"
    }
   ],
   "source": [
    "# set our x for the scrapped dataset for later prediction\n",
    "scrapped_x = scrapped_articles['text']\n",
    "scrapped_x"
   ]
  },
  {
   "cell_type": "code",
   "execution_count": 22,
   "metadata": {},
   "outputs": [],
   "source": [
    "# tokenize and create sequences for scrapped dataset\n",
    "cnn_sequences = tokenizer.texts_to_sequences(scrapped_x)\n",
    "cnn_padded_sequences = pad_sequences(cnn_sequences, maxlen=max_length, padding=padding_type, truncating=trunc_type)"
   ]
  },
  {
   "cell_type": "code",
   "execution_count": 23,
   "metadata": {},
   "outputs": [],
   "source": [
    "# run prediction on scrapped dataset\n",
    "cnn_ypred = model.predict(cnn_padded_sequences)"
   ]
  },
  {
   "cell_type": "code",
   "execution_count": 24,
   "metadata": {},
   "outputs": [
    {
     "name": "stdout",
     "output_type": "stream",
     "text": [
      "0.30526315789473685\n"
     ]
    },
    {
     "data": {
      "text/plain": [
       "array([ 5,  9, 10, 12, 13, 15, 17, 20, 22, 23, 31, 32, 34, 40, 45, 46, 47,\n",
       "       48, 64, 66, 70, 74, 80, 81, 84, 90, 92, 93, 94], dtype=int64)"
      ]
     },
     "execution_count": 24,
     "metadata": {},
     "output_type": "execute_result"
    }
   ],
   "source": [
    "# extract percentage of articles marked as fake from scrapped dataset\n",
    "cnn_fake_index = np.where(cnn_ypred==1)[0]\n",
    "print(len(cnn_fake_index)/len(scrapped_articles))\n",
    "cnn_fake_index"
   ]
  },
  {
   "cell_type": "code",
   "execution_count": 25,
   "metadata": {},
   "outputs": [
    {
     "data": {
      "text/plain": [
       "'On Tuesday, the US Food and Drug Administration expanded its authorization of the Pfizer/BioNTech and Moderna Covid-19 vaccines. Now, adults ages 50 and older are able to get a second booster if at least four months have passed since their first one.\\nWithin hours, the US Centers for Disease Control and Prevention came out with a statement that says it will also allow second boosters as well as guidance for people who initially received the Johnson & Johnson vaccine. These individuals who subsequently got a booster are now eligible for a second booster shot, too.\\nAll these developments come in the wake of the CDC\\'s updated analysis showing that the highly transmissible BA.2 subvariant is the dominant strain in the United States.\\nNow that more people can receive an additional vaccine dose, should they get it? What are factors they might want to consider? Is there any downside to getting more shots? And does it make sense to wait until a big event such as international travel or a large wedding to get that booster?\\nTo help us with these questions, I spoke with CNN Medical Analyst Dr. Leana Wen, an emergency physician and professor of health policy and management at the George Washington University Milken Institute School of Public Health. She is also author of \"Lifelines: A Doctor\\'s Journey in the Fight for Public Health.\"\\nCNN: Who is now eligible to receive an additional booster dose?\\nDr. Leana Wen: Prior to the announcements this week by the FDA and CDC, people with moderate or severe immunocompromise were already eligible for an additional booster dose. Now, a much larger group is eligible. \\nThis includes two subsets of people. First, people 50 and over who received three prior doses of either Pfizer or Moderna, and who are at least four months out from their last vaccine dose, are eligible for another mRNA booster -- either Pfizer or Moderna.\\nSecond, all adults -- regardless of age -- who received an initial Johnson & Johnson vaccine and then a booster at least four months ago are now able to receive a second booster dose with an mRNA vaccine, again either Pfizer or Moderna.\\nCNN: Now that a lot more people can get a second booster, should they?\\nWen: First, I want to emphasize the importance of getting the first booster dose. According to the CDC, about half of Americans eligible for that first booster have not yet received it. That includes an astonishing 1 in 3 people 65 and older. \\nThere is ample data that shows how important the initial booster is, especially against the Omicron subvariants, including the now-dominant BA.2 strain. During a time when BA.1 was the main variant, the effectiveness of two doses of the vaccine against severe disease dropped to 79%, according to a CDC study. The effectiveness of three doses remained high, at 94%.\\nThe data around the second booster is less clear. Much of the research comes from Israel, where fourth doses have been widely available since the end of January. One study there of adults over 60 found that those who had a fourth Covid-19 vaccine had 78% lower risk of death during the Omicron surge compared with those who had a third shot at least four months earlier. However, the number of deaths was low in both groups. \\nAnother Israeli study, published in the New England Journal of Medicine, found that while a fourth shot increased antibodies, it didn\\'t boost protection much, and those who became infected were mildly symptomatic regardless of whether they had three or four shots. Complicating it all is that it\\'s unclear how long the enhanced protection from the fourth dose will last. \\nAll this says to me that the question of whether people should receive a fourth dose is not straightforward to answer. This cannot be a blanket recommendation to everyone, but rather nuanced guidance that\\'s tailored to each person\\'s individual medical circumstance.\\nCNN: What are factors people should consider in deciding whether to get the second booster shot?\\nWen: First, consider your medical risk factors. If you are elderly and have multiple medical conditions, you are more likely to become severely ill due to Covid-19. Certainly, if you are moderately or severely immunocompromised, that should tip the scales in favor of getting the additional booster dose now.\\nOn the other hand, if you are generally healthy, you are still very well-protected from severe illness due to the protection from the vaccine and the initial booster dose. It\\'s not as urgent to get the booster, and there may also be an advantage to waiting. \\nCNN: Why might someone decide to wait on the booster?\\nWen: Right now, the level of Covid-19 in the US is pretty low. Experts have been keeping a close eye on BA.2 in case it causes another surge, but the current transmission rate in most parts of the country is the lowest it has been in months. Because the enhanced protective effect of the second booster may not last long, it might be better to wait until there are clear signs of a surge before getting it.\\nIn addition, there are studies underway to develop an Omicron-specific booster. If you haven\\'t received any booster at all, I wouldn\\'t recommend waiting for that variant-specific booster, but if you already received one, and especially if you are not particularly vulnerable, it may be reasonable to hold off for now.\\nAnother group of people who are probably better off waiting is those who were recently infected with Omicron. It\\'s unlikely that those individuals who were vaccinated and infected will be reinfected so soon. Especially if they are generally healthy individuals, I\\'d also advise them to wait a little longer before getting the additional booster.\\nCNN: Is there any known downside to getting the fourth dose?\\nWen: Analyses of extensive Israeli data have not identified new safety concerns from the fourth dose. Hypothetically, there is the concern that if someone gets constant boosters, their immune system may not fire up as well if they got exposed to Covid-19, but this is not proven. The main downside would be the issue of timing -- is now the best time to get the fourth dose, or is it better to hold off? That will depend on each person\\'s medical risk factors as well as their tolerance of risk, and specifically how important it is to them to keep avoiding the coronavirus.\\nCNN: Some people might want to wait until a big event like international travel or a large wedding to get that extra shot. Is that a good plan?\\nWen: Not really. If you have not yet had your initial booster, get it now, because that first booster is important to maintain strong protection against severe disease. Don\\'t wait on that first booster. I think it\\'s hard to time a second booster around an event, and it would make more sense to time it around an expected surge.\\n\\nThat said, I can understand why people would want to be better protected for big events. Remember that there are other tools at our disposal to do so. If you want to be extra cautious, requiring vaccines and then testing all guests prior to getting together indoors will substantially reduce risk. \\nKnow where you could access treatment in case you do get infected. And let\\'s not forget masks -- a high-quality mask (N95 or equivalent) protects you even if others around you are not masking. Boosters are one very important tool that can complement these other tools to help us reduce our individual risk.'"
      ]
     },
     "execution_count": 25,
     "metadata": {},
     "output_type": "execute_result"
    }
   ],
   "source": [
    "# see example of articles marked as fake from scrapped dataset\n",
    "index = cnn_fake_index[0]\n",
    "scrapped_articles.iloc[index]['text']"
   ]
  },
  {
   "cell_type": "markdown",
   "metadata": {},
   "source": [
    "## Test on multiple news sources"
   ]
  },
  {
   "cell_type": "code",
   "execution_count": 26,
   "metadata": {},
   "outputs": [
    {
     "name": "stdout",
     "output_type": "stream",
     "text": [
      "<class 'pandas.core.frame.DataFrame'>\n",
      "RangeIndex: 139929 entries, 0 to 139928\n",
      "Data columns (total 11 columns):\n",
      " #   Column       Non-Null Count   Dtype  \n",
      "---  ------       --------------   -----  \n",
      " 0   Unnamed: 0   139929 non-null  int64  \n",
      " 1   id           139929 non-null  int64  \n",
      " 2   title        139927 non-null  object \n",
      " 3   publication  139929 non-null  object \n",
      " 4   author       125011 non-null  object \n",
      " 5   date         139929 non-null  object \n",
      " 6   year         139929 non-null  float64\n",
      " 7   month        139929 non-null  float64\n",
      " 8   url          82920 non-null   object \n",
      " 9   content      139929 non-null  object \n",
      " 10  length       139929 non-null  int64  \n",
      "dtypes: float64(2), int64(3), object(6)\n",
      "memory usage: 11.7+ MB\n"
     ]
    },
    {
     "data": {
      "text/plain": [
       "None"
      ]
     },
     "metadata": {},
     "output_type": "display_data"
    }
   ],
   "source": [
    "# load data for multiple sources news articles\n",
    "articles1 = pd.read_csv('./data/articles1.csv')\n",
    "articles2 = pd.read_csv('./data/articles2.csv')\n",
    "articles3 = pd.read_csv('./data/articles3.csv')\n",
    "\n",
    "# perform some clean up tasks\n",
    "articles = pd.concat([articles1, articles2, articles3])\n",
    "articles=articles.dropna(subset=['date']).reset_index(drop=True)\n",
    "articles['length'] = [len(str(item)) for item in articles.date]\n",
    "\n",
    "display(articles.info())"
   ]
  },
  {
   "cell_type": "code",
   "execution_count": 27,
   "metadata": {},
   "outputs": [
    {
     "data": {
      "text/html": [
       "<div>\n",
       "<style scoped>\n",
       "    .dataframe tbody tr th:only-of-type {\n",
       "        vertical-align: middle;\n",
       "    }\n",
       "\n",
       "    .dataframe tbody tr th {\n",
       "        vertical-align: top;\n",
       "    }\n",
       "\n",
       "    .dataframe thead th {\n",
       "        text-align: right;\n",
       "    }\n",
       "</style>\n",
       "<table border=\"1\" class=\"dataframe\">\n",
       "  <thead>\n",
       "    <tr style=\"text-align: right;\">\n",
       "      <th></th>\n",
       "      <th>Unnamed: 0</th>\n",
       "      <th>id</th>\n",
       "      <th>title</th>\n",
       "      <th>publication</th>\n",
       "      <th>author</th>\n",
       "      <th>date</th>\n",
       "      <th>year</th>\n",
       "      <th>month</th>\n",
       "      <th>url</th>\n",
       "      <th>content</th>\n",
       "      <th>length</th>\n",
       "    </tr>\n",
       "  </thead>\n",
       "  <tbody>\n",
       "    <tr>\n",
       "      <th>0</th>\n",
       "      <td>0</td>\n",
       "      <td>17283</td>\n",
       "      <td>House Republicans Fret About Winning Their Health Care Suit - The New York Times</td>\n",
       "      <td>New York Times</td>\n",
       "      <td>Carl Hulse</td>\n",
       "      <td>2016-12-31</td>\n",
       "      <td>2016.0</td>\n",
       "      <td>12.0</td>\n",
       "      <td>NaN</td>\n",
       "      <td>WASHINGTON  —   Congressional Republicans have a new fear when it comes to their    health care ...</td>\n",
       "      <td>10</td>\n",
       "    </tr>\n",
       "    <tr>\n",
       "      <th>1</th>\n",
       "      <td>1</td>\n",
       "      <td>17284</td>\n",
       "      <td>Rift Between Officers and Residents as Killings Persist in South Bronx - The New York Times</td>\n",
       "      <td>New York Times</td>\n",
       "      <td>Benjamin Mueller and Al Baker</td>\n",
       "      <td>2017-06-19</td>\n",
       "      <td>2017.0</td>\n",
       "      <td>6.0</td>\n",
       "      <td>NaN</td>\n",
       "      <td>After the bullet shells get counted, the blood dries and the votive candles burn out, people pee...</td>\n",
       "      <td>10</td>\n",
       "    </tr>\n",
       "    <tr>\n",
       "      <th>2</th>\n",
       "      <td>2</td>\n",
       "      <td>17285</td>\n",
       "      <td>Tyrus Wong, ‘Bambi’ Artist Thwarted by Racial Bias, Dies at 106 - The New York Times</td>\n",
       "      <td>New York Times</td>\n",
       "      <td>Margalit Fox</td>\n",
       "      <td>2017-01-06</td>\n",
       "      <td>2017.0</td>\n",
       "      <td>1.0</td>\n",
       "      <td>NaN</td>\n",
       "      <td>When Walt Disney’s “Bambi” opened in 1942, critics praised its spare, haunting visual style, vas...</td>\n",
       "      <td>10</td>\n",
       "    </tr>\n",
       "    <tr>\n",
       "      <th>3</th>\n",
       "      <td>3</td>\n",
       "      <td>17286</td>\n",
       "      <td>Among Deaths in 2016, a Heavy Toll in Pop Music - The New York Times</td>\n",
       "      <td>New York Times</td>\n",
       "      <td>William McDonald</td>\n",
       "      <td>2017-04-10</td>\n",
       "      <td>2017.0</td>\n",
       "      <td>4.0</td>\n",
       "      <td>NaN</td>\n",
       "      <td>Death may be the great equalizer, but it isn’t necessarily evenhanded. Of all the fields of ende...</td>\n",
       "      <td>10</td>\n",
       "    </tr>\n",
       "    <tr>\n",
       "      <th>4</th>\n",
       "      <td>4</td>\n",
       "      <td>17287</td>\n",
       "      <td>Kim Jong-un Says North Korea Is Preparing to Test Long-Range Missile - The New York Times</td>\n",
       "      <td>New York Times</td>\n",
       "      <td>Choe Sang-Hun</td>\n",
       "      <td>2017-01-02</td>\n",
       "      <td>2017.0</td>\n",
       "      <td>1.0</td>\n",
       "      <td>NaN</td>\n",
       "      <td>SEOUL, South Korea  —   North Korea’s leader, Kim   said on Sunday that his country was making f...</td>\n",
       "      <td>10</td>\n",
       "    </tr>\n",
       "  </tbody>\n",
       "</table>\n",
       "</div>"
      ],
      "text/plain": [
       "   Unnamed: 0     id  \\\n",
       "0           0  17283   \n",
       "1           1  17284   \n",
       "2           2  17285   \n",
       "3           3  17286   \n",
       "4           4  17287   \n",
       "\n",
       "                                                                                         title  \\\n",
       "0             House Republicans Fret About Winning Their Health Care Suit - The New York Times   \n",
       "1  Rift Between Officers and Residents as Killings Persist in South Bronx - The New York Times   \n",
       "2         Tyrus Wong, ‘Bambi’ Artist Thwarted by Racial Bias, Dies at 106 - The New York Times   \n",
       "3                         Among Deaths in 2016, a Heavy Toll in Pop Music - The New York Times   \n",
       "4    Kim Jong-un Says North Korea Is Preparing to Test Long-Range Missile - The New York Times   \n",
       "\n",
       "      publication                         author        date    year  month  \\\n",
       "0  New York Times                     Carl Hulse  2016-12-31  2016.0   12.0   \n",
       "1  New York Times  Benjamin Mueller and Al Baker  2017-06-19  2017.0    6.0   \n",
       "2  New York Times                   Margalit Fox  2017-01-06  2017.0    1.0   \n",
       "3  New York Times               William McDonald  2017-04-10  2017.0    4.0   \n",
       "4  New York Times                  Choe Sang-Hun  2017-01-02  2017.0    1.0   \n",
       "\n",
       "   url  \\\n",
       "0  NaN   \n",
       "1  NaN   \n",
       "2  NaN   \n",
       "3  NaN   \n",
       "4  NaN   \n",
       "\n",
       "                                                                                               content  \\\n",
       "0  WASHINGTON  —   Congressional Republicans have a new fear when it comes to their    health care ...   \n",
       "1  After the bullet shells get counted, the blood dries and the votive candles burn out, people pee...   \n",
       "2  When Walt Disney’s “Bambi” opened in 1942, critics praised its spare, haunting visual style, vas...   \n",
       "3  Death may be the great equalizer, but it isn’t necessarily evenhanded. Of all the fields of ende...   \n",
       "4  SEOUL, South Korea  —   North Korea’s leader, Kim   said on Sunday that his country was making f...   \n",
       "\n",
       "   length  \n",
       "0      10  \n",
       "1      10  \n",
       "2      10  \n",
       "3      10  \n",
       "4      10  "
      ]
     },
     "execution_count": 27,
     "metadata": {},
     "output_type": "execute_result"
    }
   ],
   "source": [
    "articles[:5]"
   ]
  },
  {
   "cell_type": "code",
   "execution_count": 28,
   "metadata": {},
   "outputs": [],
   "source": [
    "# function that will tokenize and run predictions\n",
    "def get_fake_index(tag, model, data):\n",
    "    data = data[data.publication == tag]\n",
    "    filtered_data = data\n",
    "    data = data.content\n",
    "    length = len(data.content)\n",
    "\n",
    "    sequences = tokenizer.texts_to_sequences(data)\n",
    "    padded_sequences = pad_sequences(sequences, maxlen=max_length, padding=padding_type, truncating=trunc_type)\n",
    "    ypred = model.predict(padded_sequences)\n",
    "\n",
    "    fake_index = np.where(ypred==1)[0]\n",
    "    original_ids = [filtered_data.iloc[index].id for index in fake_index]\n",
    "    pctg_idxs = len(fake_index)/len(data)\n",
    "    \n",
    "    return {'source':tag, 'fake_score':pctg_idxs, 'fake_idxs':list(fake_index), 'original_idxs':list(original_ids), 'length':length}"
   ]
  },
  {
   "cell_type": "code",
   "execution_count": 29,
   "metadata": {},
   "outputs": [],
   "source": [
    "# get all sources in a list\n",
    "sources = articles.publication.unique()"
   ]
  },
  {
   "cell_type": "code",
   "execution_count": 30,
   "metadata": {},
   "outputs": [
    {
     "name": "stdout",
     "output_type": "stream",
     "text": [
      "New York Times\n",
      "Breitbart\n",
      "CNN\n",
      "Business Insider\n",
      "Atlantic\n",
      "Fox News\n",
      "Talking Points Memo\n",
      "Buzzfeed News\n",
      "National Review\n",
      "New York Post\n",
      "Guardian\n",
      "NPR\n",
      "Reuters\n",
      "Vox\n",
      "Washington Post\n"
     ]
    }
   ],
   "source": [
    "# run prediction through all the sources\n",
    "results_mult = pd.DataFrame(columns=['source','fake_idxs','fake_score','original_idxs', 'length'])\n",
    "\n",
    "for source in sources:\n",
    "    dict = get_fake_index(source, model, articles)\n",
    "    print(source, dict['length'])\n",
    "    results_mult = results_mult.append(dict, ignore_index=True)"
   ]
  },
  {
   "cell_type": "code",
   "execution_count": 31,
   "metadata": {},
   "outputs": [
    {
     "data": {
      "image/png": "[encoded data removed]",
      "text/plain": [
       "<Figure size 1440x432 with 1 Axes>"
      ]
     },
     "metadata": {},
     "output_type": "display_data"
    }
   ],
   "source": [
    "# plot resulst from fake predicition scoring by source\n",
    "palette = sns.set_palette('Blues')\n",
    "sns.set_style(\"darkgrid\")\n",
    "fig1, ax1 = plt.subplots(figsize=(20, 6));\n",
    "fig1.suptitle('Percentage of fake labeled articles by source', size=20)\n",
    "\n",
    "order = results_mult.groupby('source')['fake_score'].sum().sort_values(ascending=False).index.values\n",
    "\n",
    "g = sns.barplot(data=results_mult, x='source', y='fake_score', order=order, color='orange')\n",
    "ax1.tick_params(axis='x', rotation=90)\n",
    "\n",
    "g.bar_label(g.containers[0]);"
   ]
  },
  {
   "cell_type": "code",
   "execution_count": 32,
   "metadata": {},
   "outputs": [
    {
     "data": {
      "text/html": [
       "<div>\n",
       "<style scoped>\n",
       "    .dataframe tbody tr th:only-of-type {\n",
       "        vertical-align: middle;\n",
       "    }\n",
       "\n",
       "    .dataframe tbody tr th {\n",
       "        vertical-align: top;\n",
       "    }\n",
       "\n",
       "    .dataframe thead th {\n",
       "        text-align: right;\n",
       "    }\n",
       "</style>\n",
       "<table border=\"1\" class=\"dataframe\">\n",
       "  <thead>\n",
       "    <tr style=\"text-align: right;\">\n",
       "      <th></th>\n",
       "      <th>content</th>\n",
       "    </tr>\n",
       "  </thead>\n",
       "  <tbody>\n",
       "    <tr>\n",
       "      <th>7814</th>\n",
       "      <td>Two helicopters, an FBI bomb squad and riot police have been deployed at the University of Washington to control violent   protesters before one of MILO’s final talks of the ‘Dangerous Faggot Tour. ’[As has been seen throughout the door, the protests have quickly turned violent, with protesters ...</td>\n",
       "    </tr>\n",
       "  </tbody>\n",
       "</table>\n",
       "</div>"
      ],
      "text/plain": [
       "                                                                                                                                                                                                                                                                                                          content\n",
       "7814  Two helicopters, an FBI bomb squad and riot police have been deployed at the University of Washington to control violent   protesters before one of MILO’s final talks of the ‘Dangerous Faggot Tour. ’[As has been seen throughout the door, the protests have quickly turned violent, with protesters ..."
      ]
     },
     "metadata": {},
     "output_type": "display_data"
    },
    {
     "data": {
      "text/html": [
       "<div>\n",
       "<style scoped>\n",
       "    .dataframe tbody tr th:only-of-type {\n",
       "        vertical-align: middle;\n",
       "    }\n",
       "\n",
       "    .dataframe tbody tr th {\n",
       "        vertical-align: top;\n",
       "    }\n",
       "\n",
       "    .dataframe thead th {\n",
       "        text-align: right;\n",
       "    }\n",
       "</style>\n",
       "<table border=\"1\" class=\"dataframe\">\n",
       "  <thead>\n",
       "    <tr style=\"text-align: right;\">\n",
       "      <th></th>\n",
       "      <th>content</th>\n",
       "    </tr>\n",
       "  </thead>\n",
       "  <tbody>\n",
       "    <tr>\n",
       "      <th>68829</th>\n",
       "      <td>It was the key   debate of the 2016 election. Donald Trump won the election, in no small part, because he appeared to be on the right side of it. Appeared is used advisedly: Trump was at least in the general vicinity of the bull’  his opponent wouldn’t even acknowledge the target existed  —   ex...</td>\n",
       "    </tr>\n",
       "  </tbody>\n",
       "</table>\n",
       "</div>"
      ],
      "text/plain": [
       "                                                                                                                                                                                                                                                                                                           content\n",
       "68829  It was the key   debate of the 2016 election. Donald Trump won the election, in no small part, because he appeared to be on the right side of it. Appeared is used advisedly: Trump was at least in the general vicinity of the bull’  his opponent wouldn’t even acknowledge the target existed  —   ex..."
      ]
     },
     "metadata": {},
     "output_type": "display_data"
    },
    {
     "data": {
      "text/html": [
       "<div>\n",
       "<style scoped>\n",
       "    .dataframe tbody tr th:only-of-type {\n",
       "        vertical-align: middle;\n",
       "    }\n",
       "\n",
       "    .dataframe tbody tr th {\n",
       "        vertical-align: top;\n",
       "    }\n",
       "\n",
       "    .dataframe thead th {\n",
       "        text-align: right;\n",
       "    }\n",
       "</style>\n",
       "<table border=\"1\" class=\"dataframe\">\n",
       "  <thead>\n",
       "    <tr style=\"text-align: right;\">\n",
       "      <th></th>\n",
       "      <th>content</th>\n",
       "    </tr>\n",
       "  </thead>\n",
       "  <tbody>\n",
       "    <tr>\n",
       "      <th>10</th>\n",
       "      <td>With Donald J. Trump about to take control of the White House, it would seem a dark time for the renewable energy industry. After all, Mr. Trump has mocked the science of global warming as a Chinese hoax, threatened to kill a global deal on climate change and promised to restore the coal industr...</td>\n",
       "    </tr>\n",
       "  </tbody>\n",
       "</table>\n",
       "</div>"
      ],
      "text/plain": [
       "                                                                                                                                                                                                                                                                                                        content\n",
       "10  With Donald J. Trump about to take control of the White House, it would seem a dark time for the renewable energy industry. After all, Mr. Trump has mocked the science of global warming as a Chinese hoax, threatened to kill a global deal on climate change and promised to restore the coal industr..."
      ]
     },
     "metadata": {},
     "output_type": "display_data"
    }
   ],
   "source": [
    "# examples of article news marked as fake\n",
    "pd.set_option('display.max_colwidth', 300)\n",
    "\n",
    "display(articles[['content']][articles.id==list(results_mult[results_mult.source=='Breitbart']['original_idxs'])[0][0]])\n",
    "display(articles[['content']][articles.id==list(results_mult[results_mult.source=='National Review']['original_idxs'])[0][0]])\n",
    "display(articles[['content']][articles.id==list(results_mult[results_mult.source=='New York Times']['original_idxs'])[0][0]])"
   ]
  },
  {
   "cell_type": "markdown",
   "metadata": {},
   "source": [
    "## Bonus - Embedding visualization"
   ]
  },
  {
   "cell_type": "code",
   "execution_count": 33,
   "metadata": {},
   "outputs": [],
   "source": [
    "from tensorflow.keras.layers import TextVectorization\n",
    "import re\n",
    "import string\n",
    "\n",
    "# create tensorflow dataset based on our train data\n",
    "dataset = tf.data.Dataset.from_tensor_slices((x_train,y_train))"
   ]
  },
  {
   "cell_type": "code",
   "execution_count": 34,
   "metadata": {},
   "outputs": [],
   "source": [
    "# Create a custom standardization function to strip HTML break tags '<br />'.\n",
    "def custom_standardization(input_data):\n",
    "  lowercase = tf.strings.lower(input_data)\n",
    "  stripped_html = tf.strings.regex_replace(lowercase, '<br />', ' ')\n",
    "  return tf.strings.regex_replace(stripped_html, '[%s]' % re.escape(string.punctuation), '')\n",
    "\n",
    "# Vocabulary size and number of words in a sequence.\n",
    "vocab_size = 10000\n",
    "sequence_length = 2500\n",
    "\n",
    "# Use the text vectorization layer to normalize, split, and map strings to\n",
    "# integers. Note that the layer uses the custom standardization defined above.\n",
    "# Set maximum_sequence length as all samples are not of the same length.\n",
    "vectorize_layer = TextVectorization(\n",
    "    standardize=custom_standardization,\n",
    "    max_tokens=vocab_size,\n",
    "    output_mode='int',\n",
    "    output_sequence_length=sequence_length)\n",
    "\n",
    "# Make a text-only dataset (no labels) and call adapt to build the vocabulary.\n",
    "text_ds = dataset.map(lambda x, y: x)\n",
    "vectorize_layer.adapt(text_ds)"
   ]
  },
  {
   "cell_type": "code",
   "execution_count": 35,
   "metadata": {},
   "outputs": [],
   "source": [
    "weights = model.get_layer('embedding').get_weights()[0]\n",
    "vocab = vectorize_layer.get_vocabulary()"
   ]
  },
  {
   "cell_type": "code",
   "execution_count": 36,
   "metadata": {},
   "outputs": [],
   "source": [
    "wordindex_dict = tokenizer.word_index"
   ]
  },
  {
   "cell_type": "code",
   "execution_count": 56,
   "metadata": {},
   "outputs": [],
   "source": [
    "%reload_ext tensorboard"
   ]
  },
  {
   "cell_type": "code",
   "execution_count": 57,
   "metadata": {},
   "outputs": [],
   "source": [
    "# create logging directory\n",
    "log_dir='./logs'\n",
    "if not os.path.exists(log_dir):\n",
    "    os.makedirs(log_dir)\n",
    "\n",
    "# write wordindex dictionary\n",
    "with open(os.path.join(log_dir, 'metadata.tsv'), \"w\") as f:\n",
    "  for w in wordindex_dict:\n",
    "    f.write(\"{}\\n\".format(w))\n",
    "\n",
    "# weights from the embedding layer, in our case: model.layers[1]\n",
    "#weights = tf.Variable(model.layers[1].get_weights()[0][1:])\n",
    "weights = tf.Variable(model.get_layer('embedding').get_weights()[0])\n",
    "checkpoint = tf.train.Checkpoint(embedding=weights)\n",
    "checkpoint.save(os.path.join(log_dir, 'embedding.ckpt'))\n",
    "\n",
    "# configuration set-up\n",
    "config = projector.ProjectorConfig()\n",
    "embedding = config.embeddings.add()\n",
    "embedding.tensor_name = 'embedding/.ATTRIBUTES/VARIABLE_VALUE'\n",
    "embedding.metadata_path = 'metadata.tsv'\n",
    "projector.visualize_embeddings(log_dir, config)"
   ]
  },
  {
   "cell_type": "code",
   "execution_count": 59,
   "metadata": {},
   "outputs": [
    {
     "data": {
      "text/plain": [
       "Reusing TensorBoard on port 6006 (pid 4936), started 0:19:39 ago. (Use '!kill 4936' to kill it.)"
      ]
     },
     "metadata": {},
     "output_type": "display_data"
    },
    {
     "data": {
      "text/html": [
       "\n",
       "      <iframe id=\"tensorboard-frame-ab26ff3fc0fa2624\" width=\"100%\" height=\"800\" frameborder=\"0\">\n",
       "      </iframe>\n",
       "      <script>\n",
       "        (function() {\n",
       "          const frame = document.getElementById(\"tensorboard-frame-ab26ff3fc0fa2624\");\n",
       "          const url = new URL(\"http://localhost\");\n",
       "          const port = 6006;\n",
       "          if (port) {\n",
       "            url.port = port;\n",
       "          }\n",
       "          frame.src = url;\n",
       "        })();\n",
       "      </script>\n",
       "    "
      ],
      "text/plain": [
       "<IPython.core.display.HTML object>"
      ]
     },
     "metadata": {},
     "output_type": "display_data"
    }
   ],
   "source": [
    "%tensorboard --logdir ./logs"
   ]
  },
  {
   "cell_type": "code",
   "execution_count": null,
   "metadata": {},
   "outputs": [],
   "source": []
  }
 ],
 "metadata": {
  "accelerator": "GPU",
  "colab": {
   "collapsed_sections": [],
   "name": "news_text_analysis_classification.ipynb",
   "provenance": []
  },
  "kernelspec": {
   "display_name": ".venv",
   "language": "python",
   "name": "python3"
  },
  "language_info": {
   "codemirror_mode": {
    "name": "ipython",
    "version": 3
   },
   "file_extension": ".py",
   "mimetype": "text/x-python",
   "name": "python",
   "nbconvert_exporter": "python",
   "pygments_lexer": "ipython3",
   "version": "3.12.1"
  },
  "orig_nbformat": 4
 },
 "nbformat": 4,
 "nbformat_minor": 0
}
